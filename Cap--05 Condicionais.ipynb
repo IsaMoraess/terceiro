{
 "cells": [
  {
   "cell_type": "markdown",
   "id": "9b4c981b",
   "metadata": {},
   "source": [
    "# Condicionais if"
   ]
  },
  {
   "cell_type": "code",
   "execution_count": 4,
   "id": "c6ed0395",
   "metadata": {},
   "outputs": [
    {
     "name": "stdout",
     "output_type": "stream",
     "text": [
      "A sentença e verdadeira!\n"
     ]
    }
   ],
   "source": [
    "# Condicional if (Se)\n",
    "if 5 > 2:\n",
    "  print(\"A sentença e verdadeira!\")"
   ]
  },
  {
   "cell_type": "code",
   "execution_count": 5,
   "id": "18cf23e8",
   "metadata": {},
   "outputs": [
    {
     "name": "stdout",
     "output_type": "stream",
     "text": [
      "A sentença e falsa!\n"
     ]
    }
   ],
   "source": [
    "# Condicional if...Else\n",
    "if 5 < 2:\n",
    " print(\"A sentença e verdadeira!\")\n",
    "else:\n",
    " print(\"A sentença e falsa!\")"
   ]
  },
  {
   "cell_type": "code",
   "execution_count": 8,
   "id": "eaec86ec",
   "metadata": {},
   "outputs": [
    {
     "name": "stdout",
     "output_type": "stream",
     "text": [
      "hoje vai chover!\n"
     ]
    }
   ],
   "source": [
    "# Condicional if...Else com variavel\n",
    "dia = \"Terça\"\n",
    "if dia == \"Segunda\":\n",
    "     print(\"hoje fara sol!\")\n",
    "else:\n",
    "      print(\"hoje vai chover!\")\n",
    "    \n"
   ]
  },
  {
   "cell_type": "code",
   "execution_count": 9,
   "id": "98d783d3",
   "metadata": {},
   "outputs": [
    {
     "name": "stdout",
     "output_type": "stream",
     "text": [
      "hoje vai chover\n"
     ]
    }
   ],
   "source": [
    "# Podemos usar o operador elif para validar mais uma condiçao\n",
    "if dia == \"Segunda\":\n",
    "    print(\"hoje fara sol!\")\n",
    "elif dia == \"Terça\":\n",
    "    print(\"hoje vai chover\")\n",
    "else:\n",
    "    print(\"Sem previsao do tempo para o dia selecionado.\")"
   ]
  },
  {
   "cell_type": "markdown",
   "id": "ea631818",
   "metadata": {},
   "source": [
    "### Operadores Relacionais "
   ]
  },
  {
   "cell_type": "code",
   "execution_count": 10,
   "id": "7d41d743",
   "metadata": {},
   "outputs": [
    {
     "data": {
      "text/plain": [
       "True"
      ]
     },
     "execution_count": 10,
     "metadata": {},
     "output_type": "execute_result"
    }
   ],
   "source": [
    "6 > 3"
   ]
  },
  {
   "cell_type": "code",
   "execution_count": 11,
   "id": "6ff4f129",
   "metadata": {},
   "outputs": [
    {
     "data": {
      "text/plain": [
       "False"
      ]
     },
     "execution_count": 11,
     "metadata": {},
     "output_type": "execute_result"
    }
   ],
   "source": [
    "3 > 7"
   ]
  },
  {
   "cell_type": "code",
   "execution_count": 12,
   "id": "15c7a347",
   "metadata": {},
   "outputs": [
    {
     "data": {
      "text/plain": [
       "True"
      ]
     },
     "execution_count": 12,
     "metadata": {},
     "output_type": "execute_result"
    }
   ],
   "source": [
    "4 < 8"
   ]
  },
  {
   "cell_type": "code",
   "execution_count": 13,
   "id": "b9a881a8",
   "metadata": {},
   "outputs": [
    {
     "data": {
      "text/plain": [
       "True"
      ]
     },
     "execution_count": 13,
     "metadata": {},
     "output_type": "execute_result"
    }
   ],
   "source": [
    "4 >= 4"
   ]
  },
  {
   "cell_type": "code",
   "execution_count": 14,
   "id": "3237cf58",
   "metadata": {},
   "outputs": [
    {
     "name": "stdout",
     "output_type": "stream",
     "text": [
      "Testando Python!\n"
     ]
    }
   ],
   "source": [
    "if 5 == 5:\n",
    "    print(\"Testando Python!\")"
   ]
  },
  {
   "cell_type": "code",
   "execution_count": 15,
   "id": "8daccf8b",
   "metadata": {},
   "outputs": [
    {
     "name": "stdout",
     "output_type": "stream",
     "text": [
      "Parece que Python funciona!\n"
     ]
    }
   ],
   "source": [
    "if True:\n",
    "    print(\"Parece que Python funciona!\")\n",
    "    "
   ]
  },
  {
   "cell_type": "code",
   "execution_count": 17,
   "id": "b23f8400",
   "metadata": {},
   "outputs": [
    {
     "name": "stdout",
     "output_type": "stream",
     "text": [
      "Tudo funciona!\n"
     ]
    }
   ],
   "source": [
    "# Atençao com a sintaxe\n",
    "if 4 > 3:\n",
    "   print(\"Tudo funciona!\")\n"
   ]
  },
  {
   "cell_type": "code",
   "execution_count": 19,
   "id": "9cf03f6e",
   "metadata": {},
   "outputs": [
    {
     "name": "stdout",
     "output_type": "stream",
     "text": [
      "Tudo fuincionando!\n"
     ]
    }
   ],
   "source": [
    "# Atençao com a sintaxe\n",
    "if 4 > 3:\n",
    "    print(\"Tudo fuincionando!\")    \n",
    "    "
   ]
  },
  {
   "cell_type": "markdown",
   "id": "ca2bec45",
   "metadata": {},
   "source": [
    "###### --> Fique atento aos espaços entre as margens e cada um do seus comandos. A indexaçao faz parte da sintaxe da linguagem Python. "
   ]
  },
  {
   "cell_type": "markdown",
   "id": "3e68f93c",
   "metadata": {},
   "source": [
    "### Condicionais Aninhados"
   ]
  },
  {
   "cell_type": "code",
   "execution_count": 21,
   "id": "cdfa65d8",
   "metadata": {},
   "outputs": [
    {
     "name": "stdout",
     "output_type": "stream",
     "text": [
      "Voce pode dirigir!\n"
     ]
    }
   ],
   "source": [
    "idade = 18\n",
    "if idade > 17:\n",
    "    print(\"Voce pode dirigir!\")"
   ]
  },
  {
   "cell_type": "code",
   "execution_count": 23,
   "id": "81c9a6b4",
   "metadata": {},
   "outputs": [
    {
     "name": "stdout",
     "output_type": "stream",
     "text": [
      "Ok Bob, voce esta autorizado entrar!\n"
     ]
    }
   ],
   "source": [
    "nome = \"Bob\"\n",
    "if idade > 13:\n",
    "    if nome == \"Bob\":\n",
    "        print(\"Ok Bob, voce esta autorizado entrar!\")\n",
    "    else:\n",
    "        print(\"Desculpe, mais voce nao pode entrar!\")\n",
    "            \n",
    "        "
   ]
  },
  {
   "cell_type": "code",
   "execution_count": 24,
   "id": "42e2473d",
   "metadata": {},
   "outputs": [
    {
     "name": "stdout",
     "output_type": "stream",
     "text": [
      "Ok Bob, voce esta autorizado entrar!\n"
     ]
    }
   ],
   "source": [
    "idade = 13\n",
    "nome = \"Bob\"\n",
    "if idade >= 13 and nome == \"Bob\":\n",
    "     print(\"Ok Bob, voce esta autorizado entrar!\")"
   ]
  },
  {
   "cell_type": "code",
   "execution_count": 25,
   "id": "5de68342",
   "metadata": {},
   "outputs": [
    {
     "name": "stdout",
     "output_type": "stream",
     "text": [
      "Ok Bob, voce esta autorizado entrar!\n"
     ]
    }
   ],
   "source": [
    "idade = 12\n",
    "nome = \"Bob\"\n",
    "if (idade >= 13) or (nome == \"Bob\"):\n",
    "     print(\"Ok Bob, voce esta autorizado entrar!\")"
   ]
  },
  {
   "cell_type": "markdown",
   "id": "81acea03",
   "metadata": {},
   "source": [
    "### Operadores Logicos "
   ]
  },
  {
   "cell_type": "code",
   "execution_count": 5,
   "id": "a995e8da",
   "metadata": {},
   "outputs": [
    {
     "name": "stdout",
     "output_type": "stream",
     "text": [
      "Voce pode participar!\n"
     ]
    }
   ],
   "source": [
    "idade = 36\n",
    "nome = \"Jose\"\n",
    "if idade > 35:\n",
    "    print(\"Voce pode participar!\")\n",
    "    "
   ]
  },
  {
   "cell_type": "code",
   "execution_count": 8,
   "id": "3b7e4453",
   "metadata": {},
   "outputs": [
    {
     "name": "stdout",
     "output_type": "stream",
     "text": [
      "Autorizado!\n"
     ]
    }
   ],
   "source": [
    "idade = 36\n",
    "if idade > 35 and nome == \"Jose\":\n",
    "    print(\"Autorizado!\")"
   ]
  },
  {
   "cell_type": "markdown",
   "id": "ff7a6e0d",
   "metadata": {},
   "source": [
    "Os operadores logicos funcionam assim:"
   ]
  },
  {
   "cell_type": "markdown",
   "id": "eb0a4527",
   "metadata": {},
   "source": [
    "Operador **and** -- Retorna true se ambas declaraçoes forem verdadeira."
   ]
  },
  {
   "cell_type": "markdown",
   "id": "d8cf1bb7",
   "metadata": {},
   "source": [
    "\n",
    "Operador **or** -- Retorna true se uma das declaraçoes forem verdadeiras.\n"
   ]
  },
  {
   "cell_type": "markdown",
   "id": "c6fbd36c",
   "metadata": {},
   "source": [
    "\n",
    "Operador **not** -- Inverte o resultado, retorna false se o resultado for true."
   ]
  },
  {
   "cell_type": "code",
   "execution_count": 9,
   "id": "1c1f0c36",
   "metadata": {},
   "outputs": [
    {
     "name": "stdout",
     "output_type": "stream",
     "text": [
      "Isso esta sendo impresso por que as duas condiçoes sao verdadeiras.\n"
     ]
    }
   ],
   "source": [
    "# Operador and\n",
    "\n",
    "numero = 4\n",
    "\n",
    "if (numero > 2) and (numero % 2 == 0):\n",
    "    print(\"Isso esta sendo impresso por que as duas condiçoes sao verdadeiras.\")"
   ]
  },
  {
   "cell_type": "code",
   "execution_count": 11,
   "id": "9d42041d",
   "metadata": {},
   "outputs": [
    {
     "name": "stdout",
     "output_type": "stream",
     "text": [
      "Isso esta sendo impresso por que uma das duas condiçoes e falsa.\n"
     ]
    }
   ],
   "source": [
    "# Operador and\n",
    "\n",
    "numero = 4\n",
    "\n",
    "if (numero > 5) and (numero % 2 == 0):\n",
    "    print(\"Isso esta sendo impresso por que as duas condiçoes sao verdadeiras.\")\n",
    "else:\n",
    "    print(\"Isso esta sendo impresso por que uma das duas condiçoes e falsa.\")"
   ]
  },
  {
   "cell_type": "code",
   "execution_count": 12,
   "id": "e7a69363",
   "metadata": {},
   "outputs": [
    {
     "name": "stdout",
     "output_type": "stream",
     "text": [
      "Isso esta sendo impresso por que uma duas das condiçoes e verdadeiras.\n"
     ]
    }
   ],
   "source": [
    "# Operador or\n",
    "\n",
    "numero = 4\n",
    "\n",
    "if  (numero > 5) or (numero % 2 == 0):\n",
    "    print(\"Isso esta sendo impresso por que uma duas das condiçoes e verdadeiras.\")"
   ]
  },
  {
   "cell_type": "code",
   "execution_count": 13,
   "id": "5ebe05ac",
   "metadata": {},
   "outputs": [
    {
     "name": "stdout",
     "output_type": "stream",
     "text": [
      "Isso esta sendo impresso por que as duas condiçoes sao verdadeiras.\n"
     ]
    }
   ],
   "source": [
    "# Operador not\n",
    "\n",
    "numero = 4\n",
    "\n",
    "if not (numero > 5) and (numero % 2 == 0):\n",
    "     print(\"Isso esta sendo impresso por que as duas condiçoes sao verdadeiras.\")\n",
    "else:\n",
    "      print(\"Isso esta sendo impresso por que uma das duas condiçoes e falsa.\")"
   ]
  },
  {
   "cell_type": "code",
   "execution_count": 14,
   "id": "ea735dcf",
   "metadata": {},
   "outputs": [
    {
     "name": "stdout",
     "output_type": "stream",
     "text": [
      "Isso esta sendo impresso por que as duas primeiras condiçoes sao verdadeiras ou a terceira e verdadeira\n"
     ]
    }
   ],
   "source": [
    "# Operador and, or e not\n",
    "\n",
    "numero = 4\n",
    "\n",
    "if (not(numero > 5) and (numero % 2 == 0)) or (numero == 4):\n",
    "    print(\"Isso esta sendo impresso por que as duas primeiras condiçoes sao verdadeiras ou a terceira e verdadeira\")"
   ]
  },
  {
   "cell_type": "code",
   "execution_count": 16,
   "id": "5e608c48",
   "metadata": {},
   "outputs": [
    {
     "name": "stdout",
     "output_type": "stream",
     "text": [
      "Voce foi aprovado!\n"
     ]
    }
   ],
   "source": [
    "# Exemplo com uso de variavel\n",
    "\n",
    "diciplina = 'Python'\n",
    "nota_final = 70\n",
    "\n",
    "if diciplina == 'Python' and nota_final >= 70:\n",
    "    print(\"Voce foi aprovado!\")\n",
    "else:\n",
    "    print(\"Lamento, voce precisa estuda mais!\")"
   ]
  },
  {
   "cell_type": "code",
   "execution_count": 17,
   "id": "35e8a949",
   "metadata": {},
   "outputs": [
    {
     "name": "stdout",
     "output_type": "stream",
     "text": [
      "Lamento, voce precisa estuda mais!\n"
     ]
    }
   ],
   "source": [
    "# Usando mais uma condiçao na clasula if\n",
    "\n",
    "diciplina = 'Python'\n",
    "nota_final = 60\n",
    "\n",
    "if diciplina == 'Python' and nota_final >= 70:\n",
    "    print(\"Voce foi aprovado!\")\n",
    "else:\n",
    "    print(\"Lamento, voce precisa estuda mais!\")"
   ]
  },
  {
   "cell_type": "code",
   "execution_count": 20,
   "id": "3f79891f",
   "metadata": {},
   "outputs": [
    {
     "name": "stdout",
     "output_type": "stream",
     "text": [
      "Voce foi aprovado em Python com media final 90!\n"
     ]
    }
   ],
   "source": [
    "# Usando mais de uma condiçao na clasula if e introduzindo Placeholders\n",
    "\n",
    "diciplina = 'Python'\n",
    "nota_final = 90\n",
    "semestre = 2\n",
    "\n",
    "if diciplina == 'Python' and nota_final >= 80 and semestre != 1:\n",
    "    print('Voce foi aprovado em %s com media final %r!' %(diciplina, nota_final))\n",
    "else:\n",
    "     print(\"Lamento, voce precisa estuda mais!\")\n",
    "\n"
   ]
  },
  {
   "cell_type": "markdown",
   "id": "3627d07a",
   "metadata": {},
   "source": [
    "## Fim"
   ]
  },
  {
   "cell_type": "code",
   "execution_count": null,
   "id": "b72a070d",
   "metadata": {},
   "outputs": [],
   "source": []
  }
 ],
 "metadata": {
  "kernelspec": {
   "display_name": "Python 3 (ipykernel)",
   "language": "python",
   "name": "python3"
  },
  "language_info": {
   "codemirror_mode": {
    "name": "ipython",
    "version": 3
   },
   "file_extension": ".py",
   "mimetype": "text/x-python",
   "name": "python",
   "nbconvert_exporter": "python",
   "pygments_lexer": "ipython3",
   "version": "3.9.13"
  }
 },
 "nbformat": 4,
 "nbformat_minor": 5
}
